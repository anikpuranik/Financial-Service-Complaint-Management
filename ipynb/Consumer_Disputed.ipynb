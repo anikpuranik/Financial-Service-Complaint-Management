{
  "nbformat": 4,
  "nbformat_minor": 0,
  "metadata": {
    "colab": {
      "name": "Consumer Disputed.ipynb",
      "private_outputs": true,
      "provenance": [],
      "collapsed_sections": [
        "SFPQFvMRD4Ic",
        "2loIzy18FM9t",
        "OBr5JALsfzqd",
        "XfZdFl7HgCGS",
        "svqe_QYYftEL",
        "8ksVCDPzhuXT",
        "FenRrnoaIPbB",
        "SzjX88SYh5aL",
        "S8qH5H2LJkXG",
        "mV4Swjs3bJfS",
        "Z4-Kkh3FgmFX",
        "Xqyor5k7haqf",
        "j4Lk88Myh4Rg",
        "px_Bge2U0VCb",
        "p_1iQbeV0ZZS",
        "XavsyZUl2wX9",
        "7aQzFnt020CL"
      ]
    },
    "kernelspec": {
      "name": "python3",
      "display_name": "Python 3"
    },
    "language_info": {
      "name": "python"
    }
  },
  "cells": [
    {
      "cell_type": "markdown",
      "source": [
        "# Importing Libraries and Dataset"
      ],
      "metadata": {
        "id": "SFPQFvMRD4Ic"
      }
    },
    {
      "cell_type": "code",
      "execution_count": null,
      "metadata": {
        "id": "kk5Cb0bi3Yw8"
      },
      "outputs": [],
      "source": [
        "import numpy as np\n",
        "import pandas as pd\n",
        "from matplotlib import pyplot as plt\n",
        "import seaborn as sns\n",
        "from tqdm import tqdm"
      ]
    },
    {
      "cell_type": "code",
      "source": [
        "from sklearn.model_selection import train_test_split"
      ],
      "metadata": {
        "id": "bgdjRyh2cf19"
      },
      "execution_count": null,
      "outputs": []
    },
    {
      "cell_type": "code",
      "source": [
        "from sklearn.naive_bayes import GaussianNB\n",
        "from sklearn.svm import LinearSVC\n",
        "from sklearn.linear_model import LogisticRegression\n",
        "from sklearn.tree import DecisionTreeClassifier"
      ],
      "metadata": {
        "id": "XjPg-By10rXl"
      },
      "execution_count": null,
      "outputs": []
    },
    {
      "cell_type": "code",
      "source": [
        "from sklearn.metrics import classification_report, confusion_matrix"
      ],
      "metadata": {
        "id": "8_ubYstXdJIM"
      },
      "execution_count": null,
      "outputs": []
    },
    {
      "cell_type": "code",
      "source": [
        "dataset = pd.read_csv(\"drive/MyDrive/Colab/complaints.csv\")"
      ],
      "metadata": {
        "id": "iThfCKQVD7n7"
      },
      "execution_count": null,
      "outputs": []
    },
    {
      "cell_type": "code",
      "source": [
        "dataset.columns"
      ],
      "metadata": {
        "id": "8b_eo8nXFQt8"
      },
      "execution_count": null,
      "outputs": []
    },
    {
      "cell_type": "markdown",
      "source": [
        "# Analysis"
      ],
      "metadata": {
        "id": "2loIzy18FM9t"
      }
    },
    {
      "cell_type": "markdown",
      "source": [
        "Data Analysis provided the insight that the no dispute data is available for the last 3 years. "
      ],
      "metadata": {
        "id": "1-3QqtOwF13z"
      }
    },
    {
      "cell_type": "code",
      "source": [
        "Target_Column = \"Consumer disputed?\""
      ],
      "metadata": {
        "id": "cEypcQ8gOi4-"
      },
      "execution_count": null,
      "outputs": []
    },
    {
      "cell_type": "code",
      "source": [
        "columns_to_be_dropped = [\"Complaint ID\"]"
      ],
      "metadata": {
        "id": "xokP995rJn2_"
      },
      "execution_count": null,
      "outputs": []
    },
    {
      "cell_type": "code",
      "source": [
        "dataset['Consumer disputed?'].value_counts()"
      ],
      "metadata": {
        "id": "O1btyCTWFCP6"
      },
      "execution_count": null,
      "outputs": []
    },
    {
      "cell_type": "code",
      "source": [
        "dataset['Consumer disputed?'].isna().sum()"
      ],
      "metadata": {
        "id": "kGNEBkEsFVNf"
      },
      "execution_count": null,
      "outputs": []
    },
    {
      "cell_type": "code",
      "source": [
        "data = dataset.copy()"
      ],
      "metadata": {
        "id": "6t8-SDofI1Gl"
      },
      "execution_count": null,
      "outputs": []
    },
    {
      "cell_type": "code",
      "source": [
        "indices = data[\"Consumer disputed?\"].dropna().index"
      ],
      "metadata": {
        "id": "yC_FNWTMFbQ6"
      },
      "execution_count": null,
      "outputs": []
    },
    {
      "cell_type": "code",
      "source": [
        "data = data.loc[indices].reset_index(drop=True)"
      ],
      "metadata": {
        "id": "TQiZXMGBFqFs"
      },
      "execution_count": null,
      "outputs": []
    },
    {
      "cell_type": "code",
      "source": [
        "data.isna().sum()"
      ],
      "metadata": {
        "id": "oWdMOv_rG154"
      },
      "execution_count": null,
      "outputs": []
    },
    {
      "cell_type": "markdown",
      "source": [
        "### Checking Delay in Complain Moving Forward"
      ],
      "metadata": {
        "id": "OBr5JALsfzqd"
      }
    },
    {
      "cell_type": "code",
      "source": [
        "data[\"Date received\"] = pd.to_datetime(data[\"Date received\"], infer_datetime_format=True)\n",
        "data[\"Date sent to company\"] = pd.to_datetime(data[\"Date sent to company\"], infer_datetime_format=True)"
      ],
      "metadata": {
        "id": "jmfDuof4H6VA"
      },
      "execution_count": null,
      "outputs": []
    },
    {
      "cell_type": "code",
      "source": [
        "sum(data[\"Date received\"] != data[\"Date sent to company\"])"
      ],
      "metadata": {
        "id": "tDQL9aDUKLmk"
      },
      "execution_count": null,
      "outputs": []
    },
    {
      "cell_type": "code",
      "source": [
        "data[\"Day Difference\"] = pd.to_numeric((data[\"Date sent to company\"] - data[\"Date received\"])/np.timedelta64(1, 'D'))"
      ],
      "metadata": {
        "id": "A7Y1LDwXH--A"
      },
      "execution_count": null,
      "outputs": []
    },
    {
      "cell_type": "code",
      "source": [
        "columns_to_be_dropped.extend([\"Date received\", \"Date sent to company\"])"
      ],
      "metadata": {
        "id": "pIZVs9-QJN_g"
      },
      "execution_count": null,
      "outputs": []
    },
    {
      "cell_type": "markdown",
      "source": [
        "### Checking Textual Data"
      ],
      "metadata": {
        "id": "XfZdFl7HgCGS"
      }
    },
    {
      "cell_type": "code",
      "source": [
        "for col in data.columns:\n",
        "  print(col, len(data[col].unique()))"
      ],
      "metadata": {
        "id": "EM7EfSVGdrta"
      },
      "execution_count": null,
      "outputs": []
    },
    {
      "cell_type": "code",
      "source": [
        "\"\"\"\n",
        "for col in [\"Consumer complaint narrative\", \"Sub-issue\", \"Sub-product\", \"Consumer consent provided?\", \"Company public response\"]:\n",
        "  varname = data[col]+\"_isnan\"\n",
        "  data[varname] = np.where(pd.isnull(data[col]),1,0)\n",
        "  columns_to_be_dropped.append(col)\n",
        "\"\"\""
      ],
      "metadata": {
        "id": "0lTPR-b9ciMD"
      },
      "execution_count": null,
      "outputs": []
    },
    {
      "cell_type": "code",
      "source": [
        "for col in [\"Consumer complaint narrative\", \"Sub-issue\", \"Sub-product\", \"Consumer consent provided?\", \"Company public response\"]:\n",
        "  columns_to_be_dropped.append(col)"
      ],
      "metadata": {
        "id": "IxcnwbCheCSW"
      },
      "execution_count": null,
      "outputs": []
    },
    {
      "cell_type": "code",
      "source": [
        "columns_to_be_dropped.append(\"ZIP code\")\n",
        "columns_to_be_dropped.append(\"Company\")"
      ],
      "metadata": {
        "id": "91ZL-M67dRtq"
      },
      "execution_count": null,
      "outputs": []
    },
    {
      "cell_type": "markdown",
      "source": [
        "### Checking Products"
      ],
      "metadata": {
        "id": "svqe_QYYftEL"
      }
    },
    {
      "cell_type": "code",
      "source": [
        "dataset[\"Product\"].unique()"
      ],
      "metadata": {
        "id": "DDtdcUOHg0iE"
      },
      "execution_count": null,
      "outputs": []
    },
    {
      "cell_type": "code",
      "source": [
        "data[\"Product\"].unique()"
      ],
      "metadata": {
        "id": "ChC2IKrNfFZ7"
      },
      "execution_count": null,
      "outputs": []
    },
    {
      "cell_type": "code",
      "source": [
        "products_dropped = [\"Consumer Loan\", \"Bank account or service\", \"Credit reporting\", \"Credit card\", \n",
        "                    \"Other financial service\", \"Money transfers\", \"Payday loan\", \"Prepaid card\", \"Virtual currency\"]\n",
        "\n",
        "for product in products_dropped:\n",
        "  data.drop(data[data[\"Product\"]==product].index, inplace=True)\n",
        "\n",
        "del product, products_dropped"
      ],
      "metadata": {
        "id": "JP6P3lECfJqD"
      },
      "execution_count": null,
      "outputs": []
    },
    {
      "cell_type": "code",
      "source": [
        "data[\"Product\"].unique()"
      ],
      "metadata": {
        "id": "ftYFlBeGhpQ1"
      },
      "execution_count": null,
      "outputs": []
    },
    {
      "cell_type": "markdown",
      "source": [
        "### Checking Whether Tags affect Dispute"
      ],
      "metadata": {
        "id": "8ksVCDPzhuXT"
      }
    },
    {
      "cell_type": "code",
      "source": [
        "data[\"Tags\"].value_counts()"
      ],
      "metadata": {
        "id": "89_jnpHLJ5Nw"
      },
      "execution_count": null,
      "outputs": []
    },
    {
      "cell_type": "code",
      "source": [
        "data[\"Tags\"].isna().sum()"
      ],
      "metadata": {
        "id": "DoI81Xe0Mf5y"
      },
      "execution_count": null,
      "outputs": []
    },
    {
      "cell_type": "code",
      "source": [
        "data[\"Tags\"].isna().sum()/len(data)"
      ],
      "metadata": {
        "id": "i1tE37RbRvZX"
      },
      "execution_count": null,
      "outputs": []
    },
    {
      "cell_type": "code",
      "source": [
        "data[[\"Tags\", Target_Column]].value_counts()"
      ],
      "metadata": {
        "id": "BJWORbxDMila"
      },
      "execution_count": null,
      "outputs": []
    },
    {
      "cell_type": "code",
      "source": [
        "for tag in data[\"Tags\"].unique():\n",
        "  try:\n",
        "    print(tag,\"Yes\", len(data[(data[\"Tags\"]==tag) & (data[category]==\"Yes\")])/len(data[data[\"Tags\"]==tag]))\n",
        "    print(tag,\"No\",len(data[(data[\"Tags\"]==tag) & (data[category]==\"No\")])/len(data[data[\"Tags\"]==tag]))\n",
        "  except:\n",
        "    print(\"Nan is not a tag thus giving Error\")\n",
        "del tag"
      ],
      "metadata": {
        "id": "C4qxa8TBO38s"
      },
      "execution_count": null,
      "outputs": []
    },
    {
      "cell_type": "markdown",
      "source": [
        "Consumer Who disputed has no relation to tag column. As each have 80% (approx) chance of dispute. Even 85.88% data is missing.<br>\n",
        "Since, this is also not a mandatory column, we will drop it."
      ],
      "metadata": {
        "id": "GVPEscrSRPTt"
      }
    },
    {
      "cell_type": "code",
      "source": [
        "columns_to_be_dropped.append(\"Tags\")"
      ],
      "metadata": {
        "id": "zwA--z82SbzS"
      },
      "execution_count": null,
      "outputs": []
    },
    {
      "cell_type": "markdown",
      "source": [
        "### Checking For Issues"
      ],
      "metadata": {
        "id": "FenRrnoaIPbB"
      }
    },
    {
      "cell_type": "code",
      "source": [
        "data[\"Issue\"].value_counts()[:20]"
      ],
      "metadata": {
        "id": "38XMMaBGIKJq"
      },
      "execution_count": null,
      "outputs": []
    },
    {
      "cell_type": "code",
      "source": [
        "for issue in tqdm(data[\"Issue\"].value_counts().index[:10]):\n",
        "  varname = \"Issue_{}\".format(issue)\n",
        "  data[varname] = np.where(data[\"Issue\"]==issue, 1, 0)\n",
        "del varname"
      ],
      "metadata": {
        "id": "5oFJPfl9IUxe"
      },
      "execution_count": null,
      "outputs": []
    },
    {
      "cell_type": "code",
      "source": [
        "columns_to_be_dropped.append(\"Issue\")"
      ],
      "metadata": {
        "id": "9SIfpuWCJ95W"
      },
      "execution_count": null,
      "outputs": []
    },
    {
      "cell_type": "markdown",
      "source": [
        "### Checking for State"
      ],
      "metadata": {
        "id": "SzjX88SYh5aL"
      }
    },
    {
      "cell_type": "code",
      "source": [
        "data[\"State\"].value_counts()[:20]"
      ],
      "metadata": {
        "id": "5TA9l2G2W-5I"
      },
      "execution_count": null,
      "outputs": []
    },
    {
      "cell_type": "code",
      "source": [
        "for state in tqdm(data[\"State\"].value_counts().index[:10]):\n",
        "  varname = \"State_{}\".format(state)\n",
        "  data[varname] = np.where(data[\"State\"]==state, 1, 0)\n",
        "del varname"
      ],
      "metadata": {
        "id": "nf_nxCO9iJ2Y"
      },
      "execution_count": null,
      "outputs": []
    },
    {
      "cell_type": "code",
      "source": [
        "columns_to_be_dropped.append(\"State\")"
      ],
      "metadata": {
        "id": "_66Fj4L-J29k"
      },
      "execution_count": null,
      "outputs": []
    },
    {
      "cell_type": "markdown",
      "source": [
        "### Categorizing all the columns Left"
      ],
      "metadata": {
        "id": "S8qH5H2LJkXG"
      }
    },
    {
      "cell_type": "code",
      "source": [
        "for col in [\"Product\", \"Submitted via\", \"Company response to consumer\", \"Timely response?\"]:\n",
        "  temp = pd.get_dummies(data[col], drop_first=True, prefix=col)\n",
        "  data = pd.concat([temp, data], axis=1)\n",
        "  columns_to_be_dropped.append(col)\n",
        "  del temp"
      ],
      "metadata": {
        "id": "UQLfg--DJ0Ew"
      },
      "execution_count": null,
      "outputs": []
    },
    {
      "cell_type": "code",
      "source": [
        "data.info()"
      ],
      "metadata": {
        "id": "jfCS3GLgR5YO"
      },
      "execution_count": null,
      "outputs": []
    },
    {
      "cell_type": "markdown",
      "source": [
        "# Training Model"
      ],
      "metadata": {
        "id": "kFSiD5BhYuxf"
      }
    },
    {
      "cell_type": "code",
      "source": [
        "target = data[Target_Column]\n",
        "features = data.drop(columns=columns_to_be_dropped)\n",
        "features.drop(columns=[Target_Column], inplace=True)"
      ],
      "metadata": {
        "id": "qyH7OyYaVhRj"
      },
      "execution_count": null,
      "outputs": []
    },
    {
      "cell_type": "code",
      "source": [
        "features.drop(columns=\"Day Difference\", inplace=True)"
      ],
      "metadata": {
        "id": "29Y0QTdzgalV"
      },
      "execution_count": null,
      "outputs": []
    },
    {
      "cell_type": "markdown",
      "source": [
        "### Splitting Data"
      ],
      "metadata": {
        "id": "iBptgnz1ZFw5"
      }
    },
    {
      "cell_type": "code",
      "source": [
        "x_train, x_test, y_train, y_test = train_test_split(features, target, train_size=0.8)"
      ],
      "metadata": {
        "id": "G6muSruqY_sK"
      },
      "execution_count": null,
      "outputs": []
    },
    {
      "cell_type": "code",
      "source": [
        "print(x_train.shape, x_test.shape, y_train.shape, y_test.shape)"
      ],
      "metadata": {
        "id": "uxjXkLWKZqn_"
      },
      "execution_count": null,
      "outputs": []
    },
    {
      "cell_type": "code",
      "source": [
        "y_train.value_counts()"
      ],
      "metadata": {
        "id": "WKsognAMk-TV"
      },
      "execution_count": null,
      "outputs": []
    },
    {
      "cell_type": "code",
      "source": [
        "y_test.value_counts()"
      ],
      "metadata": {
        "id": "nUAF51UxlA7s"
      },
      "execution_count": null,
      "outputs": []
    },
    {
      "cell_type": "markdown",
      "source": [
        "### Training"
      ],
      "metadata": {
        "id": "lRfwOvCAa52g"
      }
    },
    {
      "cell_type": "markdown",
      "source": [
        "#### Naive Bayes"
      ],
      "metadata": {
        "id": "mV4Swjs3bJfS"
      }
    },
    {
      "cell_type": "code",
      "source": [
        "nvb_model = GaussianNB()\n",
        "nvb_model.fit(x_train, y_train)"
      ],
      "metadata": {
        "id": "URWhjuMobMNZ"
      },
      "execution_count": null,
      "outputs": []
    },
    {
      "cell_type": "code",
      "source": [
        "print(\"Training Accuracy:\",nvb_model.score(x_train, y_train))\n",
        "print(\"Testing Accuracy:\",nvb_model.score(x_test, y_test))"
      ],
      "metadata": {
        "id": "WJVOqpN3bMUP"
      },
      "execution_count": null,
      "outputs": []
    },
    {
      "cell_type": "markdown",
      "source": [
        "#### SVM"
      ],
      "metadata": {
        "id": "Z4-Kkh3FgmFX"
      }
    },
    {
      "cell_type": "code",
      "source": [
        "svm_model = LinearSVC()\n",
        "svm_model.fit(x_train, y_train)"
      ],
      "metadata": {
        "id": "QaX9ucbzgwSs"
      },
      "execution_count": null,
      "outputs": []
    },
    {
      "cell_type": "code",
      "source": [
        "print(\"Training Accuracy:\", svm_model.score(x_train, y_train))\n",
        "print(\"Testing Accuracy:\",svm_model.score(x_test, y_test))"
      ],
      "metadata": {
        "id": "5PADiFsdg1EK"
      },
      "execution_count": null,
      "outputs": []
    },
    {
      "cell_type": "markdown",
      "source": [
        "#### Logistic Regression"
      ],
      "metadata": {
        "id": "Xqyor5k7haqf"
      }
    },
    {
      "cell_type": "code",
      "source": [
        "lr_model = LogisticRegression()\n",
        "lr_model.fit(x_train, y_train)"
      ],
      "metadata": {
        "id": "WgaWaffDhjWY"
      },
      "execution_count": null,
      "outputs": []
    },
    {
      "cell_type": "code",
      "source": [
        "print(\"Training Accuracy:\", lr_model.score(x_train, y_train))\n",
        "print(\"Testing Accuracy:\",lr_model.score(x_test, y_test))"
      ],
      "metadata": {
        "id": "q6qO5Inyholt"
      },
      "execution_count": null,
      "outputs": []
    },
    {
      "cell_type": "markdown",
      "source": [
        "#### Decision Tree"
      ],
      "metadata": {
        "id": "j4Lk88Myh4Rg"
      }
    },
    {
      "cell_type": "code",
      "source": [
        "decision_tree_model = DecisionTreeClassifier()\n",
        "decision_tree_model.fit(x_train, y_train)"
      ],
      "metadata": {
        "id": "0ZG1GZ5nh7sz"
      },
      "execution_count": null,
      "outputs": []
    },
    {
      "cell_type": "code",
      "source": [
        "print(\"Training Accuracy:\", decision_tree_model.score(x_train, y_train))\n",
        "print(\"Testing Accuracy:\",decision_tree_model.score(x_test, y_test))"
      ],
      "metadata": {
        "id": "jgTmb4gQiDC7"
      },
      "execution_count": null,
      "outputs": []
    },
    {
      "cell_type": "markdown",
      "source": [
        "### Results"
      ],
      "metadata": {
        "id": "Kg40Z9FAiIMt"
      }
    },
    {
      "cell_type": "code",
      "source": [
        "y_pred = nvb_model.predict(x_test)"
      ],
      "metadata": {
        "id": "0SH4EAbuCiye"
      },
      "execution_count": null,
      "outputs": []
    },
    {
      "cell_type": "code",
      "source": [
        "nvb_conf_mat = confusion_matrix(y_test, y_pred)\n",
        "sns.heatmap(nvb_conf_mat, annot=True,  fmt='d', xticklabels=data[Target_Column].unique(), yticklabels=data[Target_Column].unique())\n",
        "plt.ylabel(\"Actual\")\n",
        "plt.xlabel(\"Predicted\")"
      ],
      "metadata": {
        "id": "vyZtZ8mHm3Ne"
      },
      "execution_count": null,
      "outputs": []
    },
    {
      "cell_type": "code",
      "source": [
        "nvb_report = classification_report(y_test, y_pred, target_names=data[Target_Column].unique())\n",
        "print(nvb_report)"
      ],
      "metadata": {
        "id": "_rfHoY6FCSg3"
      },
      "execution_count": null,
      "outputs": []
    },
    {
      "cell_type": "code",
      "source": [
        "y_pred = svm_model.predict(x_test)"
      ],
      "metadata": {
        "id": "LOW3TVYJDVsl"
      },
      "execution_count": null,
      "outputs": []
    },
    {
      "cell_type": "code",
      "source": [
        "svm_conf_mat = confusion_matrix(y_test, y_pred)\n",
        "sns.heatmap(svm_conf_mat, annot=True,  fmt='d', xticklabels=data[Target_Column].unique(), yticklabels=data[Target_Column].unique())\n",
        "plt.ylabel(\"Actual\")\n",
        "plt.xlabel(\"Predicted\")"
      ],
      "metadata": {
        "id": "dEOJ3z79nCUm"
      },
      "execution_count": null,
      "outputs": []
    },
    {
      "cell_type": "code",
      "source": [
        "svm_report = classification_report(y_test, y_pred, target_names=data[Target_Column].unique())\n",
        "print(svm_report)"
      ],
      "metadata": {
        "id": "5vjGcWC9Dn-B"
      },
      "execution_count": null,
      "outputs": []
    },
    {
      "cell_type": "code",
      "source": [
        "y_pred = lr_model.predict(x_test)"
      ],
      "metadata": {
        "id": "dicy0agpCTAG"
      },
      "execution_count": null,
      "outputs": []
    },
    {
      "cell_type": "code",
      "source": [
        "lr_conf_mat = confusion_matrix(y_test, y_pred)\n",
        "sns.heatmap(lr_conf_mat, annot=True,  fmt='d', xticklabels=data[Target_Column].unique(), yticklabels=data[Target_Column].unique())\n",
        "plt.ylabel(\"Actual\")\n",
        "plt.xlabel(\"Predicted\")"
      ],
      "metadata": {
        "id": "-HzSVwDfnCYI"
      },
      "execution_count": null,
      "outputs": []
    },
    {
      "cell_type": "code",
      "source": [
        "lr_report = classification_report(y_test, y_pred, target_names=data[Target_Column].unique())\n",
        "print(lr_report)"
      ],
      "metadata": {
        "id": "x3CC2zikCTaQ"
      },
      "execution_count": null,
      "outputs": []
    },
    {
      "cell_type": "code",
      "source": [
        "y_pred = decision_tree_model.predict(x_test)"
      ],
      "metadata": {
        "id": "8JOKjykbEDjW"
      },
      "execution_count": null,
      "outputs": []
    },
    {
      "cell_type": "code",
      "source": [
        "decision_tree_conf_mat = confusion_matrix(y_test, y_pred)\n",
        "sns.heatmap(decision_tree_conf_mat, annot=True,  fmt='d', xticklabels=data[Target_Column].unique(), yticklabels=data[Target_Column].unique())\n",
        "plt.ylabel(\"Actual\")\n",
        "plt.xlabel(\"Predicted\")"
      ],
      "metadata": {
        "id": "scRRf5sBm3QE"
      },
      "execution_count": null,
      "outputs": []
    },
    {
      "cell_type": "code",
      "source": [
        "decision_tree_report = classification_report(y_test, y_pred, target_names=data[Target_Column].unique())\n",
        "print(decision_tree_report)"
      ],
      "metadata": {
        "id": "iA81w2WDCT01"
      },
      "execution_count": null,
      "outputs": []
    },
    {
      "cell_type": "markdown",
      "source": [
        "### **Observations**\n",
        "1. SVM and Logistic regression does not identify even a single case \"Yes\" class. They are very much biased to majority class so that can't be considered for models. \n",
        "2. Except Naive Bayes which is 0.86, All the models show same 0.76 score for false negative recall and accuracy of 80% approx. \n",
        "3. Decision Tree is the only that can be considered as it has good accuracy, recall and still able to identfy handful of minority cases"
      ],
      "metadata": {
        "id": "Fb2EVys1mZBa"
      }
    },
    {
      "cell_type": "markdown",
      "source": [
        "# Re-Training Models"
      ],
      "metadata": {
        "id": "cD7LHDlcqi5X"
      }
    },
    {
      "cell_type": "code",
      "source": [
        "data.drop(columns=columns_to_be_dropped, inplace=True)"
      ],
      "metadata": {
        "id": "g4jXt1f9wttB"
      },
      "execution_count": null,
      "outputs": []
    },
    {
      "cell_type": "code",
      "source": [
        "data.drop(columns=\"Day Difference\", inplace=True)"
      ],
      "metadata": {
        "id": "y7ujOh2MyklZ"
      },
      "execution_count": null,
      "outputs": []
    },
    {
      "cell_type": "markdown",
      "source": [
        "### Balancing Data"
      ],
      "metadata": {
        "id": "px_Bge2U0VCb"
      }
    },
    {
      "cell_type": "code",
      "source": [
        "temp_yes_data = data[data[\"Consumer disputed?\"]==\"Yes\"]\n",
        "temp_no_data = data[data[\"Consumer disputed?\"]==\"No\"].sample(len(temp_yes_data))"
      ],
      "metadata": {
        "id": "xKspvgRawtvN"
      },
      "execution_count": null,
      "outputs": []
    },
    {
      "cell_type": "code",
      "source": [
        "print(temp_yes_data.shape)\n",
        "print(temp_no_data.shape)"
      ],
      "metadata": {
        "id": "17XTb9ovzLth"
      },
      "execution_count": null,
      "outputs": []
    },
    {
      "cell_type": "code",
      "source": [
        "training_data = pd.concat([temp_yes_data, temp_no_data], axis=0)"
      ],
      "metadata": {
        "id": "JnqUyDEJwtzs"
      },
      "execution_count": null,
      "outputs": []
    },
    {
      "cell_type": "code",
      "source": [
        "train_labels = training_data[Target_Column]\n",
        "training_data.drop(columns=Target_Column, inplace=True)\n",
        "train_features = training_data"
      ],
      "metadata": {
        "id": "pGsu3G4kwt12"
      },
      "execution_count": null,
      "outputs": []
    },
    {
      "cell_type": "code",
      "source": [
        "from sklearn.model_selection import train_test_split\n",
        "x_train, x_test, y_train, y_test = train_test_split(train_features, train_labels, train_size=0.75)"
      ],
      "metadata": {
        "id": "lcHScvhSwt4K"
      },
      "execution_count": null,
      "outputs": []
    },
    {
      "cell_type": "code",
      "source": [
        "print(x_train.shape, x_test.shape, y_train.shape, y_test.shape)"
      ],
      "metadata": {
        "id": "VoBrnvIvwt7A"
      },
      "execution_count": null,
      "outputs": []
    },
    {
      "cell_type": "markdown",
      "source": [
        "### Training"
      ],
      "metadata": {
        "id": "p_1iQbeV0ZZS"
      }
    },
    {
      "cell_type": "code",
      "source": [
        "nvb_model = GaussianNB()\n",
        "nvb_model.fit(x_train, y_train)\n",
        "nvb_model.score(x_train, y_train)"
      ],
      "metadata": {
        "id": "WGHWL8OHwt8m"
      },
      "execution_count": null,
      "outputs": []
    },
    {
      "cell_type": "code",
      "source": [
        "svm_model = LinearSVC()\n",
        "svm_model.fit(x_train, y_train)\n",
        "svm_model.score(x_train, y_train)"
      ],
      "metadata": {
        "id": "PsOwyoRP06jj"
      },
      "execution_count": null,
      "outputs": []
    },
    {
      "cell_type": "code",
      "source": [
        "lr_model = LogisticRegression()\n",
        "lr_model.fit(x_train, y_train)\n",
        "lr_model.score(x_train, y_train)"
      ],
      "metadata": {
        "id": "LUqheliHwt-q"
      },
      "execution_count": null,
      "outputs": []
    },
    {
      "cell_type": "code",
      "source": [
        "decision_tree_model = DecisionTreeClassifier()\n",
        "decision_tree_model.fit(x_train, y_train)\n",
        "decision_tree_model.score(x_train, y_train)"
      ],
      "metadata": {
        "id": "J5jDolvuwuAv"
      },
      "execution_count": null,
      "outputs": []
    },
    {
      "cell_type": "markdown",
      "source": [
        "### Validating"
      ],
      "metadata": {
        "id": "XavsyZUl2wX9"
      }
    },
    {
      "cell_type": "code",
      "source": [
        "nvb_conf_mat = confusion_matrix(y_test, nvb_model.predict(x_test))\n",
        "print(\"Testing Accuracy;\", nvb_model.score(x_test, y_test))\n",
        "print(nvb_conf_mat)"
      ],
      "metadata": {
        "id": "K5uLprAwwuFI"
      },
      "execution_count": null,
      "outputs": []
    },
    {
      "cell_type": "code",
      "source": [
        "svm_conf_mat = confusion_matrix(y_test, svm_model.predict(x_test))\n",
        "print(\"Testing Accuracy;\", svm_model.score(x_test, y_test))\n",
        "print(svm_conf_mat)"
      ],
      "metadata": {
        "id": "EoFv9V7uwuHT"
      },
      "execution_count": null,
      "outputs": []
    },
    {
      "cell_type": "code",
      "source": [
        "lr_conf_mat = confusion_matrix(y_test, lr_model.predict(x_test))\n",
        "print(\"Testing Accuracy;\", lr_model.score(x_test, y_test))\n",
        "print(lr_conf_mat)"
      ],
      "metadata": {
        "id": "12QEGRZywuJw"
      },
      "execution_count": null,
      "outputs": []
    },
    {
      "cell_type": "code",
      "source": [
        "decision_tree_conf_mat = confusion_matrix(y_test, decision_tree_model.predict(x_test))\n",
        "print(\"Testing Accuracy;\", decision_tree_model.score(x_test, y_test))\n",
        "print(decision_tree_conf_mat)"
      ],
      "metadata": {
        "id": "3VZ8L2Zx18fA"
      },
      "execution_count": null,
      "outputs": []
    },
    {
      "cell_type": "markdown",
      "source": [
        "### Testing"
      ],
      "metadata": {
        "id": "VCYcy8MG6TY9"
      }
    },
    {
      "cell_type": "code",
      "source": [
        "train_labels = data[Target_Column]\n",
        "temp = data.copy()\n",
        "temp.drop(columns=Target_Column, inplace=True)\n",
        "train_features = temp"
      ],
      "metadata": {
        "id": "LRo4z-DO6SWF"
      },
      "execution_count": null,
      "outputs": []
    },
    {
      "cell_type": "code",
      "source": [
        "y_pred = nvb_model.predict(train_features)"
      ],
      "metadata": {
        "id": "uxx7Zkht60m-"
      },
      "execution_count": null,
      "outputs": []
    },
    {
      "cell_type": "code",
      "source": [
        "nvb_report = classification_report(train_labels, y_pred, target_names=data[Target_Column].unique())\n",
        "print(nvb_report)"
      ],
      "metadata": {
        "id": "f6z_i0R77RM-"
      },
      "execution_count": null,
      "outputs": []
    },
    {
      "cell_type": "code",
      "source": [
        "nvb_conf_mat = confusion_matrix(train_labels, y_pred)\n",
        "sns.heatmap(nvb_conf_mat, annot=True,  fmt='d', xticklabels=data[Target_Column].unique(), yticklabels=data[Target_Column].unique())\n",
        "plt.ylabel(\"Actual\")\n",
        "plt.xlabel(\"Predicted\")"
      ],
      "metadata": {
        "id": "foK4DVgWHo9G"
      },
      "execution_count": null,
      "outputs": []
    },
    {
      "cell_type": "code",
      "source": [
        "y_pred = svm_model.predict(train_features)"
      ],
      "metadata": {
        "id": "CTX2n7dH6pz9"
      },
      "execution_count": null,
      "outputs": []
    },
    {
      "cell_type": "code",
      "source": [
        "svm_report = classification_report(train_labels, y_pred, target_names=data[Target_Column].unique())\n",
        "print(svm_report)"
      ],
      "metadata": {
        "id": "vyE8R1zw6p5f"
      },
      "execution_count": null,
      "outputs": []
    },
    {
      "cell_type": "code",
      "source": [
        "svm_conf_mat = confusion_matrix(train_labels, y_pred)\n",
        "sns.heatmap(svm_conf_mat, annot=True,  fmt='d', xticklabels=data[Target_Column].unique(), yticklabels=data[Target_Column].unique())\n",
        "plt.ylabel(\"Actual\")\n",
        "plt.xlabel(\"Predicted\")"
      ],
      "metadata": {
        "id": "FonP0yvf6qF-"
      },
      "execution_count": null,
      "outputs": []
    },
    {
      "cell_type": "code",
      "source": [
        "y_pred = lr_model.predict(train_features)"
      ],
      "metadata": {
        "id": "wiQwEghCIa8q"
      },
      "execution_count": null,
      "outputs": []
    },
    {
      "cell_type": "code",
      "source": [
        "lr_report = classification_report(train_labels, y_pred, target_names=data[Target_Column].unique())\n",
        "print(lr_report)"
      ],
      "metadata": {
        "id": "t-_y2WjiIa_I"
      },
      "execution_count": null,
      "outputs": []
    },
    {
      "cell_type": "code",
      "source": [
        "lr_conf_mat = confusion_matrix(train_labels, y_pred)\n",
        "sns.heatmap(lr_conf_mat, annot=True,  fmt='d', xticklabels=data[Target_Column].unique(), yticklabels=data[Target_Column].unique())\n",
        "plt.ylabel(\"Actual\")\n",
        "plt.xlabel(\"Predicted\")"
      ],
      "metadata": {
        "id": "NcEdS57UIbBl"
      },
      "execution_count": null,
      "outputs": []
    },
    {
      "cell_type": "code",
      "source": [
        "y_pred = decision_tree_model.predict(train_features)"
      ],
      "metadata": {
        "id": "NQiyQN8f72yI"
      },
      "execution_count": null,
      "outputs": []
    },
    {
      "cell_type": "code",
      "source": [
        "decision_tree_report = classification_report(train_labels, y_pred, target_names=data[Target_Column].unique())\n",
        "print(decision_tree_report)"
      ],
      "metadata": {
        "id": "lPiFNx06721o"
      },
      "execution_count": null,
      "outputs": []
    },
    {
      "cell_type": "code",
      "source": [
        "decision_tree_conf_mat = confusion_matrix(train_labels, y_pred)\n",
        "sns.heatmap(decision_tree_conf_mat, annot=True,  fmt='d', xticklabels=data[Target_Column].unique(), yticklabels=data[Target_Column].unique())\n",
        "plt.ylabel(\"Actual\")\n",
        "plt.xlabel(\"Predicted\")"
      ],
      "metadata": {
        "id": "LL-TK_m1726o"
      },
      "execution_count": null,
      "outputs": []
    },
    {
      "cell_type": "markdown",
      "source": [
        "### **Observations**\n",
        "\n",
        "1. Training accuracy is increased by 15% approximately. \n",
        "2. All are giving recall score above 83%. \n",
        "3. Drop in accuracy of all except Naive Bayes model reaching maximum of 56%.\n",
        "4. Model is able to predict both majority and minority classes."
      ],
      "metadata": {
        "id": "7aQzFnt020CL"
      }
    },
    {
      "cell_type": "markdown",
      "source": [
        "# Re-Training 2 Models"
      ],
      "metadata": {
        "id": "sKyPMmHRK31e"
      }
    },
    {
      "cell_type": "code",
      "source": [
        "#data.drop(columns=columns_to_be_dropped, inplace=True)\n",
        "#data.drop(columns=\"Day Difference\", inplace=True)"
      ],
      "metadata": {
        "id": "SZcfa7tjK31e"
      },
      "execution_count": null,
      "outputs": []
    },
    {
      "cell_type": "markdown",
      "source": [
        "### Balancing Ratio"
      ],
      "metadata": {
        "id": "Yygp2wvzK31f"
      }
    },
    {
      "cell_type": "code",
      "source": [
        "train_size = int(len(data[data[\"Consumer disputed?\"]==\"Yes\"])*0.8)\n",
        "train_size"
      ],
      "metadata": {
        "id": "19Pb177fMFkX"
      },
      "execution_count": null,
      "outputs": []
    },
    {
      "cell_type": "code",
      "source": [
        "temp_yes_data = data[data[\"Consumer disputed?\"]==\"Yes\"].sample(train_size)\n",
        "temp_no_data = data[data[\"Consumer disputed?\"]==\"No\"].sample(2*len(temp_yes_data))"
      ],
      "metadata": {
        "id": "4NTuB8YxK31f"
      },
      "execution_count": null,
      "outputs": []
    },
    {
      "cell_type": "code",
      "source": [
        "print(temp_yes_data.shape)\n",
        "print(temp_no_data.shape)"
      ],
      "metadata": {
        "id": "Z1NWbeDbK31f"
      },
      "execution_count": null,
      "outputs": []
    },
    {
      "cell_type": "code",
      "source": [
        "training_data = pd.concat([temp_yes_data, temp_no_data], axis=0)"
      ],
      "metadata": {
        "id": "yp4vYFSrK31f"
      },
      "execution_count": null,
      "outputs": []
    },
    {
      "cell_type": "code",
      "source": [
        "train_labels = training_data[Target_Column]\n",
        "training_data.drop(columns=Target_Column, inplace=True)\n",
        "train_features = training_data"
      ],
      "metadata": {
        "id": "oEo03hT-K31g"
      },
      "execution_count": null,
      "outputs": []
    },
    {
      "cell_type": "markdown",
      "source": [
        "### Training"
      ],
      "metadata": {
        "id": "NTm07bXxK31g"
      }
    },
    {
      "cell_type": "code",
      "source": [
        "nvb_model = GaussianNB()\n",
        "nvb_model.fit(train_features, train_labels)\n",
        "nvb_model.score(train_features, train_labels)"
      ],
      "metadata": {
        "id": "J58LEESCK31h"
      },
      "execution_count": null,
      "outputs": []
    },
    {
      "cell_type": "code",
      "source": [
        "svm_model = LinearSVC()\n",
        "svm_model.fit(train_features, train_labels)\n",
        "svm_model.score(train_features, train_labels)"
      ],
      "metadata": {
        "id": "-EJCQriOK31h"
      },
      "execution_count": null,
      "outputs": []
    },
    {
      "cell_type": "code",
      "source": [
        "lr_model = LogisticRegression()\n",
        "lr_model.fit(train_features, train_labels)\n",
        "lr_model.score(train_features, train_labels)"
      ],
      "metadata": {
        "id": "ZlRcSDrmK31h"
      },
      "execution_count": null,
      "outputs": []
    },
    {
      "cell_type": "code",
      "source": [
        "decision_tree_model = DecisionTreeClassifier()\n",
        "decision_tree_model.fit(train_features, train_labels)\n",
        "decision_tree_model.score(train_features, train_labels)"
      ],
      "metadata": {
        "id": "qCyjHB8gK31i"
      },
      "execution_count": null,
      "outputs": []
    },
    {
      "cell_type": "markdown",
      "source": [
        "### Testing"
      ],
      "metadata": {
        "id": "j6kPbIpqK31j"
      }
    },
    {
      "cell_type": "code",
      "source": [
        "train_labels = data[Target_Column]\n",
        "temp = data.copy()\n",
        "temp.drop(columns=Target_Column, inplace=True)\n",
        "train_features = temp"
      ],
      "metadata": {
        "id": "wq1FQSTYK31k"
      },
      "execution_count": null,
      "outputs": []
    },
    {
      "cell_type": "code",
      "source": [
        "y_pred = nvb_model.predict(train_features)"
      ],
      "metadata": {
        "id": "tyznE9GLK31k"
      },
      "execution_count": null,
      "outputs": []
    },
    {
      "cell_type": "code",
      "source": [
        "nvb_report = classification_report(train_labels, y_pred, target_names=data[Target_Column].unique())\n",
        "print(nvb_report)"
      ],
      "metadata": {
        "id": "UtA8uFHkK31k"
      },
      "execution_count": null,
      "outputs": []
    },
    {
      "cell_type": "code",
      "source": [
        "nvb_conf_mat = confusion_matrix(train_labels, y_pred)\n",
        "sns.heatmap(nvb_conf_mat, annot=True,  fmt='d', xticklabels=data[Target_Column].unique(), yticklabels=data[Target_Column].unique())\n",
        "plt.ylabel(\"Actual\")\n",
        "plt.xlabel(\"Predicted\")"
      ],
      "metadata": {
        "id": "qDTtpP1vK31k"
      },
      "execution_count": null,
      "outputs": []
    },
    {
      "cell_type": "code",
      "source": [
        "y_pred = svm_model.predict(train_features)"
      ],
      "metadata": {
        "id": "f8yiQEA0K31l"
      },
      "execution_count": null,
      "outputs": []
    },
    {
      "cell_type": "code",
      "source": [
        "svm_report = classification_report(train_labels, y_pred, target_names=data[Target_Column].unique())\n",
        "print(svm_report)"
      ],
      "metadata": {
        "id": "UkEDrhIPK31l"
      },
      "execution_count": null,
      "outputs": []
    },
    {
      "cell_type": "code",
      "source": [
        "svm_conf_mat = confusion_matrix(train_labels, y_pred)\n",
        "sns.heatmap(svm_conf_mat, annot=True,  fmt='d', xticklabels=data[Target_Column].unique(), yticklabels=data[Target_Column].unique())\n",
        "plt.ylabel(\"Actual\")\n",
        "plt.xlabel(\"Predicted\")"
      ],
      "metadata": {
        "id": "ExHtx3hQK31l"
      },
      "execution_count": null,
      "outputs": []
    },
    {
      "cell_type": "code",
      "source": [
        "y_pred = lr_model.predict(train_features)"
      ],
      "metadata": {
        "id": "fUz88XJ_K31l"
      },
      "execution_count": null,
      "outputs": []
    },
    {
      "cell_type": "code",
      "source": [
        "lr_report = classification_report(train_labels, y_pred, target_names=data[Target_Column].unique())\n",
        "print(lr_report)"
      ],
      "metadata": {
        "id": "jljGRQ6hK31m"
      },
      "execution_count": null,
      "outputs": []
    },
    {
      "cell_type": "code",
      "source": [
        "lr_conf_mat = confusion_matrix(train_labels, y_pred)\n",
        "sns.heatmap(lr_conf_mat, annot=True,  fmt='d', xticklabels=data[Target_Column].unique(), yticklabels=data[Target_Column].unique())\n",
        "plt.ylabel(\"Actual\")\n",
        "plt.xlabel(\"Predicted\")"
      ],
      "metadata": {
        "id": "TdW9j2UTK31m"
      },
      "execution_count": null,
      "outputs": []
    },
    {
      "cell_type": "code",
      "source": [
        "y_pred = decision_tree_model.predict(train_features)"
      ],
      "metadata": {
        "id": "ZNDUrzTqK31m"
      },
      "execution_count": null,
      "outputs": []
    },
    {
      "cell_type": "code",
      "source": [
        "decision_tree_report = classification_report(train_labels, y_pred, target_names=data[Target_Column].unique())\n",
        "print(decision_tree_report)"
      ],
      "metadata": {
        "id": "x__7wgSMK31m"
      },
      "execution_count": null,
      "outputs": []
    },
    {
      "cell_type": "code",
      "source": [
        "decision_tree_conf_mat = confusion_matrix(train_labels, y_pred)\n",
        "sns.heatmap(decision_tree_conf_mat, annot=True,  fmt='d', xticklabels=data[Target_Column].unique(), yticklabels=data[Target_Column].unique())\n",
        "plt.ylabel(\"Actual\")\n",
        "plt.xlabel(\"Predicted\")"
      ],
      "metadata": {
        "id": "tPRvP1HtK31n"
      },
      "execution_count": null,
      "outputs": []
    },
    {
      "cell_type": "markdown",
      "source": [
        "### **Observations**\n",
        "\n",
        "1. All models area able to give recall rate of 80% and except Naive Bayes 80% accuracy is achieved in SVM, Logistic Regression and Decision Tree.\n",
        "2. SVM and decision Tree model takes much less time to train the model so they are preferred over Logistic Regression. \n",
        "3. All models performed better with the this training data distribution."
      ],
      "metadata": {
        "id": "LbtPyTWsK31n"
      }
    },
    {
      "cell_type": "markdown",
      "source": [
        "# Improving Model"
      ],
      "metadata": {
        "id": "IwdmW4u7mVnk"
      }
    },
    {
      "cell_type": "markdown",
      "source": [
        "Many Steps can be taken to improve the accuracy and recall for the model. Pre-trained Model and Deep Learning can be used. Feature Selection, Feature Extraction and Manual Updation in data can be done."
      ],
      "metadata": {
        "id": "gupnxZO_iVwM"
      }
    }
  ]
}